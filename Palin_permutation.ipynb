{
  "nbformat": 4,
  "nbformat_minor": 0,
  "metadata": {
    "colab": {
      "provenance": []
    },
    "kernelspec": {
      "name": "python3",
      "display_name": "Python 3"
    },
    "language_info": {
      "name": "python"
    }
  },
  "cells": [
    {
      "cell_type": "code",
      "execution_count": 10,
      "metadata": {
        "colab": {
          "base_uri": "https://localhost:8080/"
        },
        "id": "_ALR1RTpbbtP",
        "outputId": "b94ee465-5790-4036-879a-d474e47a0388"
      },
      "outputs": [
        {
          "output_type": "execute_result",
          "data": {
            "text/plain": [
              "True"
            ]
          },
          "metadata": {},
          "execution_count": 10
        }
      ],
      "source": [
        "def generate_permutations(s):\n",
        "    def backtrack(start):\n",
        "        if start == len(s) - 1:\n",
        "            permutations.append(\"\".join(s))\n",
        "            return\n",
        "\n",
        "        for i in range(start, len(s)):\n",
        "            s[start], s[i] = s[i], s[start]  # Swap characters\n",
        "            backtrack(start + 1)  # Recursively generate permutations for the remaining characters\n",
        "            s[start], s[i] = s[i], s[start]  # Backtrack (restore the original order)\n",
        "\n",
        "    permutations = []\n",
        "    s = list(s)  # Convert string to a list of characters\n",
        "    backtrack(0)\n",
        "    for i in permutations:\n",
        "      if check_palindrom(i):\n",
        "        return True\n",
        "    return False\n",
        "def check_palindrom(string_passed):\n",
        "  string_passed=\"\".join(string_passed.split())\n",
        "  string_1=string_passed[::-1]\n",
        "  #print(\"actual string===\",string_passed,string_1)\n",
        "\n",
        "  if string_1==string_passed:\n",
        "    return True\n",
        "generate_permutations(\"mam\")"
      ]
    },
    {
      "cell_type": "code",
      "source": [],
      "metadata": {
        "id": "6iFGF7sucmax"
      },
      "execution_count": null,
      "outputs": []
    }
  ]
}